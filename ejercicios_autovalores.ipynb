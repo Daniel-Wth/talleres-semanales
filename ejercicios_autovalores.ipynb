{
 "cells": [
  {
   "cell_type": "markdown",
   "id": "a775f4ab",
   "metadata": {},
   "source": [
    "#  Ejercicios de Autovalores y Autovectores"
   ]
  },
  {
   "cell_type": "markdown",
   "id": "4917fa5c",
   "metadata": {},
   "source": [
    "## Ejercicio 1: Autovalores y autovectores de una matriz real\n",
    "\n",
    "Matriz:\n",
    "\n",
    "$$A = \\begin{pmatrix}4 & 1\\\\2 & 3\\end{pmatrix}$$"
   ]
  },
  {
   "cell_type": "code",
   "execution_count": null,
   "id": "e551e300",
   "metadata": {},
   "outputs": [],
   "source": [
    "\n",
    "import numpy as np\n",
    "\n",
    "A = np.array([[4,1],[2,3]], dtype=float)\n",
    "valores_A, vectores_A = np.linalg.eig(A)\n",
    "valores_A, vectores_A\n"
   ]
  },
  {
   "cell_type": "markdown",
   "id": "84d9f785",
   "metadata": {},
   "source": [
    "## Ejercicio 2: Autovalores y autovectores de una matriz compleja\n",
    "\n",
    "Matriz:\n",
    "\n",
    "$$B = \\begin{pmatrix}1 + 2i & 2 + 3i\\\\4 + 5i & 6 + 7i\\end{pmatrix}$$"
   ]
  },
  {
   "cell_type": "code",
   "execution_count": null,
   "id": "70b9ce20",
   "metadata": {},
   "outputs": [],
   "source": [
    "\n",
    "B = np.array([[1+2j, 2+3j],[4+5j, 6+7j]], dtype=complex)\n",
    "valores_B, vectores_B = np.linalg.eig(B)\n",
    "valores_B, vectores_B\n"
   ]
  },
  {
   "cell_type": "markdown",
   "id": "dfefd624",
   "metadata": {},
   "source": [
    "## Ejercicio 3: Autovalores y autovectores de una matriz simétrica\n",
    "\n",
    "Matriz:\n",
    "\n",
    "$$C = \\begin{pmatrix}5 & 4\\\\4 & 5\\end{pmatrix}$$"
   ]
  },
  {
   "cell_type": "code",
   "execution_count": null,
   "id": "c1c349e3",
   "metadata": {},
   "outputs": [],
   "source": [
    "\n",
    "C = np.array([[5,4],[4,5]], dtype=float)\n",
    "valores_C, vectores_C = np.linalg.eig(C)\n",
    "valores_C, vectores_C\n"
   ]
  },
  {
   "cell_type": "code",
   "execution_count": null,
   "id": "a60ee94a",
   "metadata": {},
   "outputs": [],
   "source": [
    "\n",
    "# Verificar ortogonalidad de los autovectores\n",
    "Q = vectores_C\n",
    "np.round(Q.T @ Q, 10)\n"
   ]
  },
  {
   "cell_type": "markdown",
   "id": "4b4674a2",
   "metadata": {},
   "source": [
    "## Ejercicio 4: Graficar transformaciones de matrices\n",
    "\n",
    "Matriz:\n",
    "\n",
    "$$T = \\begin{pmatrix}2 & 1\\\\1 & 3\\end{pmatrix}$$"
   ]
  },
  {
   "cell_type": "code",
   "execution_count": null,
   "id": "221a950e",
   "metadata": {},
   "outputs": [],
   "source": [
    "\n",
    "import matplotlib.pyplot as plt\n",
    "\n",
    "T = np.array([[2,1],[1,3]], dtype=float)\n",
    "\n",
    "# Círculo unitario\n",
    "theta = np.linspace(0, 2*np.pi, 400)\n",
    "circulo = np.vstack([np.cos(theta), np.sin(theta)])\n",
    "\n",
    "# Transformación\n",
    "transformado = T @ circulo\n",
    "\n",
    "# Autovalores y autovectores\n",
    "valores_T, vectores_T = np.linalg.eig(T)\n",
    "\n",
    "plt.figure(figsize=(7,7))\n",
    "plt.plot(circulo[0], circulo[1], label='Círculo unitario')\n",
    "plt.plot(transformado[0], transformado[1], label='Transformación T·círculo')\n",
    "plt.axhline(0, color='black', linewidth=0.5)\n",
    "plt.axvline(0, color='black', linewidth=0.5)\n",
    "\n",
    "colores = ['r','g']\n",
    "for i in range(2):\n",
    "    v = vectores_T[:, i]\n",
    "    Tv = T @ v\n",
    "    plt.quiver(0, 0, v[0], v[1], angles='xy', scale_units='xy', scale=1,\n",
    "               color=colores[i], width=0.007, label=f'vector propio {i+1} (λ={valores_T[i]:.2f})')\n",
    "    plt.quiver(0, 0, Tv[0], Tv[1], angles='xy', scale_units='xy', scale=1,\n",
    "               color=colores[i], alpha=0.4, width=0.007, linestyle='--',\n",
    "               label=f'T·vector propio {i+1}')\n",
    "\n",
    "plt.gca().set_aspect('equal', 'box')\n",
    "plt.legend(loc='upper right', fontsize=9)\n",
    "plt.title('Transformación del círculo unitario con T')\n",
    "plt.show()\n"
   ]
  },
  {
   "cell_type": "markdown",
   "id": "73b0d5bc",
   "metadata": {},
   "source": [
    "## Ejercicio 5: Matriz diagonal\n",
    "\n",
    "Matriz:\n",
    "\n",
    "$$D = \\begin{pmatrix}7 & 0\\\\0 & -3\\end{pmatrix}$$"
   ]
  },
  {
   "cell_type": "code",
   "execution_count": null,
   "id": "fe00dd44",
   "metadata": {},
   "outputs": [],
   "source": [
    "\n",
    "D = np.array([[7,0],[0,-3]], dtype=float)\n",
    "valores_D, vectores_D = np.linalg.eig(D)\n",
    "valores_D, vectores_D\n"
   ]
  }
 ],
 "metadata": {
  "language_info": {
   "name": "python"
  }
 },
 "nbformat": 4,
 "nbformat_minor": 5
}
