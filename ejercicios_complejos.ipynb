{
 "cells": [
  {
   "cell_type": "markdown",
   "id": "ee8e0e2a",
   "metadata": {},
   "source": [
    "# Ejercicios con Números Complejos"
   ]
  },
  {
   "cell_type": "markdown",
   "id": "6631f170",
   "metadata": {},
   "source": [
    "## Ejercicio 1: Operaciones básicas con números complejos"
   ]
  },
  {
   "cell_type": "code",
   "execution_count": null,
   "id": "12d87488",
   "metadata": {},
   "outputs": [],
   "source": [
    "\n",
    "z1 = 3 + 4j\n",
    "z2 = 1 - 2j\n",
    "z3 = 5 + 6j\n",
    "z4 = 7 - 8j\n",
    "z5 = 2 - 3j\n",
    "z6 = 1 + 4j\n",
    "\n",
    "print(\"Suma:\", z1 + z2)\n",
    "print(\"Multiplicación:\", z3 * z4)\n",
    "print(\"División:\", z5 / z6)\n",
    "print(\"Conjugado de 3-4j:\", (3-4j).conjugate())\n",
    "print(\"Módulo de 3-4j:\", abs(3-4j))\n"
   ]
  },
  {
   "cell_type": "markdown",
   "id": "f345e03b",
   "metadata": {},
   "source": [
    "##  Ejercicio 2: Visualización en el plano complejo"
   ]
  },
  {
   "cell_type": "code",
   "execution_count": null,
   "id": "556906bd",
   "metadata": {},
   "outputs": [],
   "source": [
    "\n",
    "import matplotlib.pyplot as plt\n",
    "\n",
    "def graficar_complejo(z, etiqueta=\"z\", color=\"blue\"):\n",
    "    plt.scatter(z.real, z.imag, color=color, label=etiqueta)\n",
    "    plt.axhline(0, color=\"black\", linewidth=0.5)\n",
    "    plt.axvline(0, color=\"black\", linewidth=0.5)\n",
    "    plt.xlabel(\"Parte real\")\n",
    "    plt.ylabel(\"Parte imaginaria\")\n",
    "    plt.legend()\n",
    "    plt.grid(True)\n",
    "    plt.show()\n",
    "\n",
    "# Graficar (3+4j) y su conjugado\n",
    "z = 3 + 4j\n",
    "graficar_complejo(z, etiqueta=\"z = 3+4j\", color=\"blue\")\n",
    "graficar_complejo(z.conjugate(), etiqueta=\"conj(z) = 3-4j\", color=\"red\")\n"
   ]
  },
  {
   "cell_type": "code",
   "execution_count": null,
   "id": "ada212f9",
   "metadata": {},
   "outputs": [],
   "source": [
    "\n",
    "def graficar_operaciones(z1, z2):\n",
    "    plt.axhline(0, color=\"black\", linewidth=0.5)\n",
    "    plt.axvline(0, color=\"black\", linewidth=0.5)\n",
    "    plt.grid(True)\n",
    "\n",
    "    plt.scatter(z1.real, z1.imag, color=\"blue\", label=f\"z1={z1}\")\n",
    "    plt.scatter(z2.real, z2.imag, color=\"red\", label=f\"z2={z2}\")\n",
    "\n",
    "    z_suma = z1 + z2\n",
    "    plt.scatter(z_suma.real, z_suma.imag, color=\"green\", label=f\"z1+z2={z_suma}\")\n",
    "\n",
    "    z_mul = z1 * z2\n",
    "    plt.scatter(z_mul.real, z_mul.imag, color=\"purple\", label=f\"z1*z2={z_mul}\")\n",
    "\n",
    "    plt.xlabel(\"Parte real\")\n",
    "    plt.ylabel(\"Parte imaginaria\")\n",
    "    plt.legend()\n",
    "    plt.show()\n",
    "\n",
    "graficar_operaciones(3+4j, 1-2j)\n"
   ]
  },
  {
   "cell_type": "markdown",
   "id": "75998af7",
   "metadata": {},
   "source": [
    "##  Ejercicio 3: Conjunto de Mandelbrot"
   ]
  },
  {
   "cell_type": "code",
   "execution_count": null,
   "id": "7a23532c",
   "metadata": {},
   "outputs": [],
   "source": [
    "\n",
    "import numpy as np\n",
    "\n",
    "def mandelbrot(ancho, alto, x_min, x_max, y_min, y_max, max_iter):\n",
    "    x = np.linspace(x_min, x_max, ancho)\n",
    "    y = np.linspace(y_min, y_max, alto)\n",
    "    C = x[np.newaxis, :] + 1j * y[:, np.newaxis]\n",
    "    Z = np.zeros(C.shape, dtype=complex)\n",
    "    img = np.zeros(C.shape, dtype=int)\n",
    "\n",
    "    for k in range(max_iter):\n",
    "        mascara = np.abs(Z) <= 2\n",
    "        Z[mascara] = Z[mascara]**2 + C[mascara]\n",
    "        img[mascara] = k\n",
    "    return img\n",
    "\n",
    "plt.imshow(mandelbrot(500, 500, -2, 1, -1.5, 1.5, 100),\n",
    "           extent=(-2, 1, -1.5, 1.5), cmap=\"hot\")\n",
    "plt.colorbar()\n",
    "plt.show()\n"
   ]
  },
  {
   "cell_type": "markdown",
   "id": "5ed82b7f",
   "metadata": {},
   "source": [
    "##  Ejercicio 4: Conjunto de Julia"
   ]
  },
  {
   "cell_type": "code",
   "execution_count": null,
   "id": "21116380",
   "metadata": {},
   "outputs": [],
   "source": [
    "\n",
    "def julia(ancho, alto, x_min, x_max, y_min, y_max, c, max_iter):\n",
    "    x = np.linspace(x_min, x_max, ancho)\n",
    "    y = np.linspace(y_min, y_max, alto)\n",
    "    Z = x[np.newaxis, :] + 1j * y[:, np.newaxis]\n",
    "    img = np.zeros(Z.shape, dtype=int)\n",
    "\n",
    "    for k in range(max_iter):\n",
    "        mascara = np.abs(Z) <= 2\n",
    "        Z[mascara] = Z[mascara]**2 + c\n",
    "        img[mascara] = k\n",
    "    return img\n",
    "\n",
    "plt.imshow(julia(500, 500, -2, 2, -2, 2, -0.4 + 0.6j, 200),\n",
    "           extent=(-2, 2, -2, 2), cmap=\"twilight_shifted\")\n",
    "plt.colorbar()\n",
    "plt.show()\n"
   ]
  },
  {
   "cell_type": "markdown",
   "id": "aa8bce77",
   "metadata": {},
   "source": [
    "##  Ejercicio 5: Propiedades de los números complejos"
   ]
  },
  {
   "cell_type": "markdown",
   "id": "de1ede9e",
   "metadata": {},
   "source": [
    "\n",
    "### 1. Propiedad del valor absoluto\n",
    "\n",
    "\\(|z_1 z_2| = |z_1||z_2|\\)\n",
    "\n",
    "Demostración:\n",
    "\\(|z_1 z_2|^2 = (z_1 z_2)(\\overline{z_1 z_2}) = z_1 z_2 \\overline{z_1}\\overline{z_2} = (z_1\\overline{z_1})(z_2\\overline{z_2}) = |z_1|^2 |z_2|^2\\).\n",
    "\n",
    "Entonces:\n",
    "\\(|z_1 z_2| = |z_1||z_2|\\)\n",
    "\n",
    "---\n",
    "\n",
    "### 2. Propiedad del conjugado\n",
    "\n",
    "\\(\\overline{z_1 + z_2} = \\overline{z_1} + \\overline{z_2}\\)\n"
   ]
  }
 ],
 "metadata": {
  "language_info": {
   "name": "python"
  }
 },
 "nbformat": 4,
 "nbformat_minor": 5
}
